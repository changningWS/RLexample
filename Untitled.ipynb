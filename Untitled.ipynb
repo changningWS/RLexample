{
 "cells": [
  {
   "cell_type": "code",
   "execution_count": null,
   "metadata": {},
   "outputs": [
    {
     "name": "stdout",
     "output_type": "stream",
     "text": [
      "\n",
      "Collecting experience...\n",
      "Ep:  200         Ep_r:  3.51\n",
      "Ep:  201         Ep_r:  2.57\n",
      "Ep:  202         Ep_r:  3.34\n",
      "Ep:  203         Ep_r:  3.09\n",
      "Ep:  204         Ep_r:  2.24\n",
      "Ep:  205         Ep_r:  3.2\n",
      "Ep:  206         Ep_r:  2.82\n",
      "Ep:  207         Ep_r:  1.53\n",
      "Ep:  208         Ep_r:  2.23\n",
      "Ep:  209         Ep_r:  1.42\n",
      "Ep:  210         Ep_r:  2.52\n",
      "Ep:  211         Ep_r:  0.38\n",
      "Ep:  212         Ep_r:  9.55\n",
      "Ep:  213         Ep_r:  2.61\n",
      "Ep:  214         Ep_r:  3.32\n",
      "Ep:  215         Ep_r:  10.32\n",
      "Ep:  216         Ep_r:  3.77\n",
      "Ep:  217         Ep_r:  1.06\n",
      "Ep:  218         Ep_r:  2.06\n",
      "Ep:  219         Ep_r:  3.52\n",
      "Ep:  220         Ep_r:  2.02\n",
      "Ep:  221         Ep_r:  1.69\n",
      "Ep:  222         Ep_r:  5.99\n",
      "Ep:  223         Ep_r:  3.5\n",
      "Ep:  224         Ep_r:  5.86\n",
      "Ep:  225         Ep_r:  127.91\n",
      "Ep:  226         Ep_r:  50.76\n",
      "Ep:  227         Ep_r:  820.64\n",
      "Ep:  228         Ep_r:  299.42\n",
      "Ep:  229         Ep_r:  189.83\n",
      "Ep:  230         Ep_r:  147.68\n",
      "Ep:  231         Ep_r:  147.41\n",
      "Ep:  232         Ep_r:  54.66\n",
      "Ep:  233         Ep_r:  106.02\n",
      "Ep:  234         Ep_r:  134.99\n",
      "Ep:  235         Ep_r:  851.7\n",
      "Ep:  236         Ep_r:  2147.01\n",
      "Ep:  237         Ep_r:  485.13\n",
      "Ep:  238         Ep_r:  140.07\n",
      "Ep:  239         Ep_r:  669.01\n",
      "Ep:  240         Ep_r:  329.45\n",
      "Ep:  241         Ep_r:  258.72\n",
      "Ep:  242         Ep_r:  361.64\n",
      "Ep:  243         Ep_r:  584.51\n",
      "Ep:  244         Ep_r:  134.66\n",
      "Ep:  245         Ep_r:  350.45\n",
      "Ep:  246         Ep_r:  333.45\n",
      "Ep:  247         Ep_r:  151.31\n",
      "Ep:  248         Ep_r:  225.52\n"
     ]
    }
   ],
   "source": [
    "%run DQN.py"
   ]
  },
  {
   "cell_type": "code",
   "execution_count": null,
   "metadata": {},
   "outputs": [],
   "source": []
  },
  {
   "cell_type": "code",
   "execution_count": null,
   "metadata": {},
   "outputs": [],
   "source": []
  }
 ],
 "metadata": {
  "kernelspec": {
   "display_name": "Python 3",
   "language": "python",
   "name": "python3"
  },
  "language_info": {
   "codemirror_mode": {
    "name": "ipython",
    "version": 3
   },
   "file_extension": ".py",
   "mimetype": "text/x-python",
   "name": "python",
   "nbconvert_exporter": "python",
   "pygments_lexer": "ipython3",
   "version": "3.6.7"
  }
 },
 "nbformat": 4,
 "nbformat_minor": 4
}
